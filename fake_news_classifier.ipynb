{
  "nbformat": 4,
  "nbformat_minor": 0,
  "metadata": {
    "colab": {
      "provenance": []
    },
    "kernelspec": {
      "name": "python3",
      "display_name": "Python 3"
    },
    "language_info": {
      "name": "python"
    }
  },
  "cells": [
    {
      "cell_type": "code",
      "execution_count": null,
      "metadata": {
        "id": "dlOXoMwTPHnM"
      },
      "outputs": [],
      "source": [
        "import numpy as np\n",
        "import pandas as pd\n",
        "from matplotlib import pyplot as plt\n",
        "%matplotlib inline\n",
        "import seaborn as sns\n",
        "import re\n",
        "from nltk.corpus import stopwords\n",
        "from nltk.stem.porter import PorterStemmer\n",
        "from sklearn.feature_extraction.text import CountVectorizer\n",
        "from sklearn.feature_extraction.text import TfidfTransformer\n",
        "from sklearn.linear_model import LogisticRegression\n",
        "from sklearn.svm import SVC\n",
        "from sklearn.tree import DecisionTreeClassifier\n",
        "from sklearn.ensemble import RandomForestClassifier , GradientBoostingClassifier\n",
        "from sklearn.model_selection import train_test_split , GridSearchCV\n",
        "from sklearn.metrics import accuracy_score , ConfusionMatrixDisplay , classification_report , roc_curve"
      ]
    },
    {
      "cell_type": "code",
      "source": [
        "print(stopwords.words('english'))"
      ],
      "metadata": {
        "id": "SJMhN5ODSniq"
      },
      "execution_count": null,
      "outputs": []
    },
    {
      "cell_type": "code",
      "source": [
        "df = pd.read_csv('train.csv')\n",
        "print(f\"The shape of the dataset is: {df.shape}\")\n",
        "df.head()"
      ],
      "metadata": {
        "id": "EbwxGl54Snla"
      },
      "execution_count": null,
      "outputs": []
    },
    {
      "cell_type": "code",
      "source": [
        "df.info()"
      ],
      "metadata": {
        "id": "9RJNtnmtSnn_"
      },
      "execution_count": null,
      "outputs": []
    },
    {
      "cell_type": "code",
      "source": [
        "df.isna().sum()"
      ],
      "metadata": {
        "id": "48hEpNUISnq6"
      },
      "execution_count": null,
      "outputs": []
    },
    {
      "cell_type": "code",
      "source": [
        "# Data Preprocessing-Handling null values"
      ],
      "metadata": {
        "id": "cWltfLrvSntt"
      },
      "execution_count": null,
      "outputs": []
    },
    {
      "cell_type": "code",
      "source": [
        "df.fillna(\" \", inplace= True)"
      ],
      "metadata": {
        "id": "bamJkMnkSnwD"
      },
      "execution_count": null,
      "outputs": []
    },
    {
      "cell_type": "code",
      "source": [
        "df['content'] = df['title'] + \" \" + df['author']"
      ],
      "metadata": {
        "id": "GYF88ow7S6Fx"
      },
      "execution_count": null,
      "outputs": []
    },
    {
      "cell_type": "code",
      "source": [
        "df.head()"
      ],
      "metadata": {
        "id": "pgL95oS7S6IR"
      },
      "execution_count": null,
      "outputs": []
    },
    {
      "cell_type": "code",
      "source": [
        "# Stemming is the process of reducing a word to its base or root form, by removing suffixes and prefixes"
      ],
      "metadata": {
        "id": "ikaUOH34S6Kp"
      },
      "execution_count": null,
      "outputs": []
    },
    {
      "cell_type": "code",
      "source": [
        "port_stem = PorterStemmer()"
      ],
      "metadata": {
        "id": "prlAJuRRS6NU"
      },
      "execution_count": null,
      "outputs": []
    },
    {
      "cell_type": "code",
      "source": [
        "def stemming(content):\n",
        "    #replace any non-alphabetic characters in the content variable with a space character\n",
        "    stemmed_content= re.sub('[^a-zA-Z]',' ',content)\n",
        "    #Convert all words into lower case letters\n",
        "    stemmed_content = stemmed_content.lower()\n",
        "    # Split the words into list\n",
        "    stemmed_content = stemmed_content.split()\n",
        "    #generate a list of stemmed words from stemmed_content, excluding any stop words from the list\n",
        "    stemmed_content = [port_stem.stem(word) for word in stemmed_content if not word in stopwords.words('english')]\n",
        "    #Join the elements from the list 'stemmed_content' into a single string separated by spaces\n",
        "    stemmed_content = \" \".join(stemmed_content)\n",
        "    return stemmed_content"
      ],
      "metadata": {
        "id": "142Vk3jRS6P2"
      },
      "execution_count": null,
      "outputs": []
    },
    {
      "cell_type": "code",
      "source": [
        "df['content']= df['content'].apply(stemming)"
      ],
      "metadata": {
        "id": "VNgrueX9S6SP"
      },
      "execution_count": null,
      "outputs": []
    },
    {
      "cell_type": "code",
      "source": [
        "df['content']"
      ],
      "metadata": {
        "id": "waXtpB2dTObz"
      },
      "execution_count": null,
      "outputs": []
    },
    {
      "cell_type": "code",
      "source": [
        "# Converting the textual data to numerical data"
      ],
      "metadata": {
        "id": "dnM7iPtrTOef"
      },
      "execution_count": null,
      "outputs": []
    },
    {
      "cell_type": "code",
      "source": [
        "transformer = TfidfTransformer(smooth_idf=False)\n",
        "count_vectorizer = CountVectorizer(ngram_range=(1, 2))\n",
        "counts = count_vectorizer.fit_transform(df['content'].values)\n",
        "tfidf = transformer.fit_transform(counts)"
      ],
      "metadata": {
        "id": "K5buX4OUTOhG"
      },
      "execution_count": null,
      "outputs": []
    },
    {
      "cell_type": "code",
      "source": [
        "# Split data into train & test data"
      ],
      "metadata": {
        "id": "yQGurj_DTOkQ"
      },
      "execution_count": null,
      "outputs": []
    },
    {
      "cell_type": "code",
      "source": [
        "targets = df['label'].values"
      ],
      "metadata": {
        "id": "i-2O7IpqTal1"
      },
      "execution_count": null,
      "outputs": []
    },
    {
      "cell_type": "code",
      "source": [
        "print(f\"target shape: {targets.shape}\")\n",
        "print(f\"X shape: {tfidf.shape}\")"
      ],
      "metadata": {
        "id": "MzwhFsi3Taol"
      },
      "execution_count": null,
      "outputs": []
    },
    {
      "cell_type": "code",
      "source": [
        "X_train, X_test, y_train, y_test = train_test_split(tfidf, targets, test_size=0.2, random_state=86)"
      ],
      "metadata": {
        "id": "rmU8ybsPTara"
      },
      "execution_count": null,
      "outputs": []
    },
    {
      "cell_type": "code",
      "source": [
        "print(f\"The shape of X_train is: {X_train.shape[0]}\")\n",
        "print(f\"The shape of X_test is: {X_test.shape[0]}\")"
      ],
      "metadata": {
        "id": "GJ501VfvTauY"
      },
      "execution_count": null,
      "outputs": []
    },
    {
      "cell_type": "code",
      "source": [
        "# classification (functions for calculation and output)"
      ],
      "metadata": {
        "id": "YqZ9QttDTawp"
      },
      "execution_count": null,
      "outputs": []
    },
    {
      "cell_type": "code",
      "source": [
        "def train(model , model_name):\n",
        "    model.fit(X_train,y_train)\n",
        "    print(f\"Training accuracy of {model_name} is {model.score(X_train,y_train)}\")\n",
        "    print(f\"testing accuracy of {model_name} is {model.score(X_test,y_test)}\")\n",
        "def conf_matrix(model):\n",
        "    ConfusionMatrixDisplay.from_estimator(\n",
        "        model,\n",
        "        X_test,\n",
        "        y_test\n",
        "    )\n",
        "def class_report(model):\n",
        "    print(classification_report(\n",
        "        y_test,\n",
        "        model.predict(X_test)\n",
        "    ))"
      ],
      "metadata": {
        "id": "vyrkG21YTpfp"
      },
      "execution_count": null,
      "outputs": []
    },
    {
      "cell_type": "code",
      "source": [
        "# Logistic Regression\n",
        "model_lr = LogisticRegression()\n",
        "train(model_lr, 'LogisticRegression')\n",
        "conf_matrix(model_lr)\n",
        "class_report(model_lr)"
      ],
      "metadata": {
        "id": "9AfABoaRTpis"
      },
      "execution_count": 1,
      "outputs": []
    },
    {
      "cell_type": "code",
      "source": [
        "# SVM\n",
        "svc_model= SVC()\n",
        "train(svc_model, 'SVM')\n",
        "conf_matrix(svc_model)\n",
        "class_report(svc_model)"
      ],
      "metadata": {
        "id": "bEr6COtjT82X"
      },
      "execution_count": null,
      "outputs": []
    },
    {
      "cell_type": "code",
      "source": [
        "# Decision Tree Classifier"
      ],
      "metadata": {
        "id": "XCDSGY-QUasZ"
      },
      "execution_count": null,
      "outputs": []
    },
    {
      "cell_type": "code",
      "source": [
        "depth_num= range(50, 71, 2)\n",
        "training_acc= []\n",
        "testing_acc = []\n",
        "for depth in depth_num:\n",
        "    tree_model = DecisionTreeClassifier(max_depth=depth,random_state=42)\n",
        "    tree_model.fit(X_train,y_train)\n",
        "    training_acc.append(tree_model.score(X_train,y_train))\n",
        "    testing_acc.append(tree_model.score(X_test,y_test))"
      ],
      "metadata": {
        "id": "xNukmr0UTplO"
      },
      "execution_count": null,
      "outputs": []
    },
    {
      "cell_type": "code",
      "source": [
        "print(\"Training Accuracy Scores:\", training_acc[:3])\n",
        "print(\"testing Accuracy Scores:\", testing_acc[:3])"
      ],
      "metadata": {
        "id": "FzSfxEfTTpn0"
      },
      "execution_count": null,
      "outputs": []
    },
    {
      "cell_type": "code",
      "source": [
        "plt.plot(depth_num , training_acc , label= 'Training')\n",
        "plt.plot(depth_num , testing_acc , label= 'Testing')\n",
        "plt.xlabel('Max_Depth')\n",
        "plt.ylabel('Accuracy_score')\n",
        "plt.legend();"
      ],
      "metadata": {
        "id": "bOw3Ny4VTpqC"
      },
      "execution_count": null,
      "outputs": []
    },
    {
      "cell_type": "code",
      "source": [
        "# final model\n",
        "tree_final_model=DecisionTreeClassifier(max_depth=58,random_state=42)\n",
        "tree_final_model.fit(X_train,y_train)\n",
        "tree_training_acc = tree_final_model.score(X_train,y_train)\n",
        "tree_testing_acc = tree_final_model.score(X_test,y_test)\n",
        "print(f\"Training accuracy of DesicionTreeClassifier is {tree_training_acc}\")\n",
        "print(f\"testing accuracy of DesicionTreeClassifier is {tree_testing_acc}\")"
      ],
      "metadata": {
        "id": "hoPQeYgIUU0m"
      },
      "execution_count": null,
      "outputs": []
    },
    {
      "cell_type": "code",
      "source": [
        "conf_matrix(tree_final_model)"
      ],
      "metadata": {
        "id": "XVp2feR5UdE_"
      },
      "execution_count": null,
      "outputs": []
    },
    {
      "cell_type": "code",
      "source": [
        "class_report(tree_final_model)"
      ],
      "metadata": {
        "id": "DC2Cn9zqUdHf"
      },
      "execution_count": null,
      "outputs": []
    },
    {
      "cell_type": "code",
      "source": [
        "# Random Forest Classifier"
      ],
      "metadata": {
        "id": "tZXigm8KUdKj"
      },
      "execution_count": null,
      "outputs": []
    },
    {
      "cell_type": "code",
      "source": [
        "clf= RandomForestClassifier(random_state=42)\n",
        "params={\n",
        "    \"n_estimators\": range(50,125,25),\n",
        "    \"max_depth\": range(60,81,2)\n",
        "}\n",
        "params"
      ],
      "metadata": {
        "id": "5mRbDwJ4UdMs"
      },
      "execution_count": null,
      "outputs": []
    },
    {
      "cell_type": "code",
      "source": [
        "rfc_model = GridSearchCV(\n",
        "    clf,\n",
        "    param_grid= params,\n",
        "    cv= 5,\n",
        "    n_jobs= -1,\n",
        "    verbose=1\n",
        ")"
      ],
      "metadata": {
        "id": "QkXwBSjzUvk8"
      },
      "execution_count": null,
      "outputs": []
    },
    {
      "cell_type": "code",
      "source": [
        "rfc_model.fit(X_train,y_train)"
      ],
      "metadata": {
        "id": "mdo1rsL3Uvnf"
      },
      "execution_count": null,
      "outputs": []
    },
    {
      "cell_type": "code",
      "source": [
        "cv_results= pd.DataFrame(rfc_model.cv_results_)\n",
        "cv_results.sort_values('rank_test_score').head(10)"
      ],
      "metadata": {
        "id": "DMKaR_N9Uvq2"
      },
      "execution_count": null,
      "outputs": []
    },
    {
      "cell_type": "code",
      "source": [
        "rfc_model.best_params_"
      ],
      "metadata": {
        "id": "MA8LOJTsUvtY"
      },
      "execution_count": null,
      "outputs": []
    },
    {
      "cell_type": "code",
      "source": [
        "rfc_model.predict(X_test)"
      ],
      "metadata": {
        "id": "8MvsnASCUvww"
      },
      "execution_count": null,
      "outputs": []
    },
    {
      "cell_type": "code",
      "source": [
        "acc_train = rfc_model.score(X_train , y_train)\n",
        "acc_test = rfc_model.score(X_test , y_test)\n",
        "\n",
        "print(f\"Training accuracy: {round(acc_train , 4)}\")\n",
        "print(f\"test accuracy: {round(acc_test , 4)}\")"
      ],
      "metadata": {
        "id": "JtN2noXGU4CS"
      },
      "execution_count": null,
      "outputs": []
    },
    {
      "cell_type": "code",
      "source": [
        "conf_matrix(rfc_model)"
      ],
      "metadata": {
        "id": "EjKOwe38U4Ew"
      },
      "execution_count": null,
      "outputs": []
    },
    {
      "cell_type": "code",
      "source": [
        "class_report(rfc_model)"
      ],
      "metadata": {
        "id": "8KHkgn2pU4Hf"
      },
      "execution_count": null,
      "outputs": []
    },
    {
      "cell_type": "code",
      "source": [
        "# Classifiers Comparison\n",
        "models = pd.DataFrame({\n",
        "\n",
        "    \"Models\": [\"Logestic Regression\" , \"SVM\", \"DecisionTreeClassifier\",\"RandomForestClassifier\"],\n",
        "    \"Score\":[model_lr.score(X_test,y_test) ,svc_model.score(X_test,y_test) ,tree_testing_acc,acc_test ]\n",
        "\n",
        "})\n",
        "models.sort_values(by=\"Score\" , ascending=False)"
      ],
      "metadata": {
        "id": "R1LXIietU4KA"
      },
      "execution_count": null,
      "outputs": []
    },
    {
      "cell_type": "code",
      "source": [
        "colors= ['orange' , 'blue','red','green']\n",
        "sns.set_style('whitegrid')\n",
        "plt.figure(figsize=(10,5))\n",
        "sns.barplot(x=models['Models'],y=models['Score'], palette=colors )\n",
        "plt.xlabel(\"Models\")\n",
        "plt.ylabel(\"Score\")\n",
        "plt.title(\"Model Selection\")\n",
        "plt.show();"
      ],
      "metadata": {
        "id": "IDeBBTSDU4ND"
      },
      "execution_count": null,
      "outputs": []
    },
    {
      "cell_type": "code",
      "source": [
        "# Decision Tree has got the highest accuracy!"
      ],
      "metadata": {
        "id": "UtumxcB3VNWl"
      },
      "execution_count": null,
      "outputs": []
    },
    {
      "cell_type": "code",
      "source": [],
      "metadata": {
        "id": "18H1yXAVVNZF"
      },
      "execution_count": null,
      "outputs": []
    },
    {
      "cell_type": "code",
      "source": [],
      "metadata": {
        "id": "P81RMAIcVNfK"
      },
      "execution_count": null,
      "outputs": []
    },
    {
      "cell_type": "code",
      "source": [],
      "metadata": {
        "id": "gCcDDFoUVNh9"
      },
      "execution_count": null,
      "outputs": []
    }
  ]
}